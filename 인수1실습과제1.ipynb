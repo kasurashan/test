{
  "nbformat": 4,
  "nbformat_minor": 0,
  "metadata": {
    "colab": {
      "name": "실습과제1.ipynb",
      "provenance": [],
      "collapsed_sections": [],
      "authorship_tag": "ABX9TyONPgv6C4N0OdDNxv9kBpvj",
      "include_colab_link": true
    },
    "kernelspec": {
      "name": "python3",
      "display_name": "Python 3"
    }
  },
  "cells": [
    {
      "cell_type": "markdown",
      "metadata": {
        "id": "view-in-github",
        "colab_type": "text"
      },
      "source": [
        "<a href=\"https://colab.research.google.com/github/kasurashan/test/blob/master/%EC%9D%B8%EC%88%981%EC%8B%A4%EC%8A%B5%EA%B3%BC%EC%A0%9C1.ipynb\" target=\"_parent\"><img src=\"https://colab.research.google.com/assets/colab-badge.svg\" alt=\"Open In Colab\"/></a>"
      ]
    },
    {
      "cell_type": "code",
      "metadata": {
        "colab": {
          "base_uri": "https://localhost:8080/"
        },
        "id": "y9lBCbSi319M",
        "outputId": "839598a0-3b0e-4644-931f-a17dd8df8b7d"
      },
      "source": [
        "# (a)\n",
        "\n",
        "class GoodRect :\n",
        "\n",
        "    def __init__(self, a, b, c, d) :\n",
        "        self.a = a\n",
        "        self.b = b\n",
        "        self.c = c\n",
        "        self.d = d\n",
        "\n",
        "\n",
        "# (b)\n",
        "\n",
        "def Iou(p, q) :\n",
        "    \n",
        "    x = min(p.a, q.a)\n",
        "    y = min(p.b, q.b)\n",
        "    z = max(p.a+p.c, q.a+q.c)\n",
        "    w = max(p.b+p.d, q.b+q.d)\n",
        "    \n",
        "    if ( (z - x) > (p.c + q.c) ) or ( (w - y) > (p.d + q.d ) ) :\n",
        "        Iou = 0\n",
        "        \n",
        "    else :\n",
        "        AreaInter = (p.c + q.c - (z-x)) * (p.d + q.d - (w-y))\n",
        "        AreaTotal = (p.c * p.d) + (q.c * q.d) - AreaInter\n",
        "        Iou = AreaInter/AreaTotal\n",
        "\n",
        "    return Iou\n",
        "\n",
        "U = GoodRect(0,0,4,4)\n",
        "V = GoodRect(1,1,4,4)\n",
        "print(Iou(U,V))\n",
        "\n",
        "\n",
        "# (c)\n",
        "\n",
        "my_list = [[0,0,2,2], [1,1,3,2], [0,1,2,3]]\n",
        "length = len(my_list)\n",
        "print(length)\n",
        "\n",
        "f = []\n",
        "\n",
        "for i in range(0,length) : \n",
        "    f = f + [GoodRect(my_list[i][0], my_list[i][1], my_list[i][2], my_list[i][3])]\n",
        "\n",
        "\n",
        "IouMax = 0\n",
        "for i in range (0, length-1) :  \n",
        "    for j in range (i+1, length) :        \n",
        "        if Iou(f[i], f[j]) > IouMax :\n",
        "            IouMax = Iou(f[i], f[j])\n",
        "\n",
        "print(IouMax)\n",
        "\n"
      ],
      "execution_count": 71,
      "outputs": [
        {
          "output_type": "stream",
          "text": [
            "0.391304347826087\n",
            "3\n",
            "0.25\n"
          ],
          "name": "stdout"
        }
      ]
    }
  ]
}